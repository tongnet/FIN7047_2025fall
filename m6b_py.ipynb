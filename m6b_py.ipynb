{
 "cells": [
  {
   "cell_type": "code",
   "execution_count": 3,
   "id": "d352408f",
   "metadata": {},
   "outputs": [
    {
     "name": "stdout",
     "output_type": "stream",
     "text": [
      "Softmax Probabilities: [0.65900114 0.24243297 0.09856589]\n"
     ]
    }
   ],
   "source": [
    "import numpy as np\n",
    "\n",
    "# Given scores\n",
    "Z = np.array([2.0, 1.0, 0.1])\n",
    "\n",
    "# Apply softmax\n",
    "softmax_probs = np.exp(Z) / np.sum(np.exp(Z))\n",
    "\n",
    "# Print results\n",
    "print(\"Softmax Probabilities:\", softmax_probs)\n"
   ]
  },
  {
   "cell_type": "code",
   "execution_count": 6,
   "id": "22636270",
   "metadata": {},
   "outputs": [
    {
     "name": "stdout",
     "output_type": "stream",
     "text": [
      "GPT Analysis of the Article:\n",
      "The key concepts and main problem addressed in Satoshi Nakamoto's 2008 paper, \"Bitcoin: A Peer-to-Peer Electronic Cash System,\" are foundational to understanding the innovation of Bitcoin and its underlying technology, blockchain. Here's an analysis based on the excerpt provided:\n",
      "\n",
      "1. **Peer-to-Peer Electronic Cash**: The paper proposes a system for electronic transactions without the need for a trusted third party, such as a bank or financial institution. This peer-to-peer system aims to enable direct online payments from one party to another.\n",
      "\n",
      "2. **Problem of Trust**: A significant issue with traditional online transactions is the dependence on financial institutions to act as trusted intermediaries. These institutions manage the process, including verification and record-keeping, which introduces a potential point of failure: the trustworthiness and integrity of the third party itself.\n",
      "\n",
      "3. **Double-Spending Problem**: A critical challenge in digital cash systems is preventing double-spending, where a single digital token can be spent more than once. This is inherently difficult to tackle without a central authority that keeps track of each transaction.\n",
      "\n",
      "4. **Digital Signatures**: Part of the solution to ensuring the authenticity of transactions involves digital signatures, which verify the participants in a transaction without requiring a central authority.\n",
      "\n",
      "5. **Proof-of-Work (PoW)**: The paper introduces a method to address the double-spending issue using a proof-of-work system. This involves validating transactions and adding them to a continuous public ledger (the blockchain) by performing computational work.\n",
      "\n",
      "6. **Blockchain Technology**: Transactions are timestamped and recorded in a public, ongoing chain of hash-based proof-of-works, creating a blockchain. Each block in the chain confirms the exact time and sequence of transactions, and once formed, cannot be altered without redoing the proof-of-work.\n",
      "\n",
      "7. **Network Security and Structure**: The security of the network is maintained as long as the majority of CPU power comes from nodes (computers participating in the network) that are not colluding to attack the network. The longest chain of blocks serves as proof of the sequence of events and the computational work done. The system is designed to be robust, with minimal structure; nodes operate on a best-effort basis and can join or leave the network freely, relying on the accepted longest chain as the accurate history of transactions.\n",
      "\n",
      "8. **Decentralization**: The decentralized nature of Bitcoin means that no single entity has control over the entire network. This reduces the risk of corruption, censorship, and\n"
     ]
    }
   ],
   "source": [
    "import PyPDF2\n",
    "import openai\n",
    "\n",
    "# Initialize OpenAI client with your API key\n",
    "client = openai.OpenAI(api_key=\"\")  # Replace with your actual API key\n",
    "\n",
    "# Function to extract text from PDF\n",
    "def extract_text_from_pdf(file_path):\n",
    "    text = \"\"\n",
    "    with open(file_path, \"rb\") as file:\n",
    "        reader = PyPDF2.PdfReader(file)\n",
    "        for page in reader.pages:\n",
    "            text += page.extract_text() or \"\"  # Ensures no NoneType issues\n",
    "    return text\n",
    "\n",
    "# Define the path to the PDF file\n",
    "#file_path = \"nakamoto_2008_bitcoin.pdf\"\n",
    "file_path = r\"d:\\tong\\teaching\\fin7047\\supporting materials\\references\\nakamoto_2008_bitcoin.pdf\"\n",
    "\n",
    "# Extract the full text from the Nakamoto paper\n",
    "pdf_text = extract_text_from_pdf(file_path)\n",
    "\n",
    "# Prepare messages for ChatCompletion\n",
    "messages = [\n",
    "    {\"role\": \"system\", \"content\": \"You are a helpful assistant specialized in cryptocurrency and financial systems.\"},\n",
    "    {\"role\": \"user\", \"content\": f\"Analyze the following excerpt from Nakamoto's 2008 paper:\\n\\n{pdf_text[:1500]}\\n\\nWhat are the key concepts and the main problem being addressed in this paper?\"}\n",
    "]\n",
    "\n",
    "# **Using ChatCompletion in the Correct Way**\n",
    "response = client.chat.completions.create(\n",
    "    model=\"gpt-4-turbo\",  # Use GPT-4 if available\n",
    "    messages=messages,\n",
    "    max_tokens=500,\n",
    "    temperature=0.7\n",
    ")\n",
    "\n",
    "# Print GPT's response\n",
    "print(\"GPT Analysis of the Article:\")\n",
    "print(response.choices[0].message.content.strip())"
   ]
  },
  {
   "cell_type": "code",
   "execution_count": 7,
   "id": "b6e0c77a",
   "metadata": {},
   "outputs": [
    {
     "ename": "OpenAIError",
     "evalue": "The api_key client option must be set either by passing api_key to the client or by setting the OPENAI_API_KEY environment variable",
     "output_type": "error",
     "traceback": [
      "\u001b[1;31m---------------------------------------------------------------------------\u001b[0m",
      "\u001b[1;31mOpenAIError\u001b[0m                               Traceback (most recent call last)",
      "Cell \u001b[1;32mIn[7], line 7\u001b[0m\n\u001b[0;32m      5\u001b[0m \u001b[38;5;66;03m# Load OpenAI API key securely from environment variable\u001b[39;00m\n\u001b[0;32m      6\u001b[0m api_key \u001b[38;5;241m=\u001b[39m os\u001b[38;5;241m.\u001b[39mgetenv(\u001b[38;5;124m\"\u001b[39m\u001b[38;5;124mOPENAI_API_KEY\u001b[39m\u001b[38;5;124m\"\u001b[39m)  \u001b[38;5;66;03m# Set this in your environment\u001b[39;00m\n\u001b[1;32m----> 7\u001b[0m client \u001b[38;5;241m=\u001b[39m openai\u001b[38;5;241m.\u001b[39mOpenAI(api_key\u001b[38;5;241m=\u001b[39mapi_key)  \u001b[38;5;66;03m# Use the OpenAI client\u001b[39;00m\n\u001b[0;32m      9\u001b[0m \u001b[38;5;66;03m# Define the path to the uploaded PDF file\u001b[39;00m\n\u001b[0;32m     10\u001b[0m file_path \u001b[38;5;241m=\u001b[39m \u001b[38;5;124m\"\u001b[39m\u001b[38;5;124mnakamoto_2008_bitcoin.pdf\u001b[39m\u001b[38;5;124m\"\u001b[39m\n",
      "File \u001b[1;32m~\\AppData\\Local\\anaconda3\\Lib\\site-packages\\openai\\_client.py:126\u001b[0m, in \u001b[0;36mOpenAI.__init__\u001b[1;34m(self, api_key, organization, project, base_url, websocket_base_url, timeout, max_retries, default_headers, default_query, http_client, _strict_response_validation)\u001b[0m\n\u001b[0;32m    124\u001b[0m     api_key \u001b[38;5;241m=\u001b[39m os\u001b[38;5;241m.\u001b[39menviron\u001b[38;5;241m.\u001b[39mget(\u001b[38;5;124m\"\u001b[39m\u001b[38;5;124mOPENAI_API_KEY\u001b[39m\u001b[38;5;124m\"\u001b[39m)\n\u001b[0;32m    125\u001b[0m \u001b[38;5;28;01mif\u001b[39;00m api_key \u001b[38;5;129;01mis\u001b[39;00m \u001b[38;5;28;01mNone\u001b[39;00m:\n\u001b[1;32m--> 126\u001b[0m     \u001b[38;5;28;01mraise\u001b[39;00m OpenAIError(\n\u001b[0;32m    127\u001b[0m         \u001b[38;5;124m\"\u001b[39m\u001b[38;5;124mThe api_key client option must be set either by passing api_key to the client or by setting the OPENAI_API_KEY environment variable\u001b[39m\u001b[38;5;124m\"\u001b[39m\n\u001b[0;32m    128\u001b[0m     )\n\u001b[0;32m    129\u001b[0m \u001b[38;5;28mself\u001b[39m\u001b[38;5;241m.\u001b[39mapi_key \u001b[38;5;241m=\u001b[39m api_key\n\u001b[0;32m    131\u001b[0m \u001b[38;5;28;01mif\u001b[39;00m organization \u001b[38;5;129;01mis\u001b[39;00m \u001b[38;5;28;01mNone\u001b[39;00m:\n",
      "\u001b[1;31mOpenAIError\u001b[0m: The api_key client option must be set either by passing api_key to the client or by setting the OPENAI_API_KEY environment variable"
     ]
    }
   ],
   "source": [
    "import os\n",
    "import openai\n",
    "import PyPDF2\n",
    "\n",
    "# Load OpenAI API key securely from environment variable\n",
    "api_key = os.getenv(\"OPENAI_API_KEY\")  # Set this in your environment\n",
    "client = openai.OpenAI(api_key=api_key)  # Use the OpenAI client\n",
    "\n",
    "# Define the path to the uploaded PDF file\n",
    "file_path = \"nakamoto_2008_bitcoin.pdf\"\n",
    "\n",
    "# Function to extract text from PDF\n",
    "def extract_text_from_pdf(file_path):\n",
    "    text = \"\"\n",
    "    with open(file_path, \"rb\") as file:\n",
    "        reader = PyPDF2.PdfReader(file)\n",
    "        for page in reader.pages:\n",
    "            text += page.extract_text() or \"\"  # Ensures no NoneType issues\n",
    "    return text\n",
    "\n",
    "# Extract text from the Nakamoto PDF\n",
    "pdf_text = extract_text_from_pdf(file_path)\n",
    "\n",
    "# Break text into manageable chunks for GPT analysis\n",
    "chunk_size = 1500\n",
    "text_chunks = [pdf_text[i:i + chunk_size] for i in range(0, len(pdf_text), chunk_size)]\n",
    "\n",
    "# Function to get GPT analysis for each text chunk\n",
    "def gpt_topic_analysis(chunk):\n",
    "    messages = [\n",
    "        {\"role\": \"system\", \"content\": \"You are an expert in cryptocurrencies and financial systems.\"},\n",
    "        {\"role\": \"user\", \"content\": f\"Analyze the following text and identify the main topics and sub-topics discussed:\\n\\n{chunk}\"}\n",
    "    ]\n",
    "    \n",
    "    response = client.chat.completions.create(\n",
    "        model=\"gpt-4-turbo\",  # Use GPT-4 if available\n",
    "        messages=messages,\n",
    "        max_tokens=200,\n",
    "        temperature=0.7\n",
    "    )\n",
    "    \n",
    "    return response.choices[0].message.content.strip()\n",
    "\n",
    "# Analyze each chunk and collect the results\n",
    "topic_results = []\n",
    "for i, chunk in enumerate(text_chunks):\n",
    "    print(f\"Analyzing chunk {i + 1}/{len(text_chunks)}...\")\n",
    "    topic_summary = gpt_topic_analysis(chunk)\n",
    "    topic_results.append(f\"Chunk {i + 1} Analysis:\\n{topic_summary}\\n\")\n",
    "\n",
    "# Print the combined topic analysis\n",
    "print(\"=== Combined Topic Analysis ===\\n\")\n",
    "for result in topic_results:\n",
    "    print(result)\n",
    "\n"
   ]
  },
  {
   "cell_type": "code",
   "execution_count": null,
   "id": "c4b0dc3d",
   "metadata": {},
   "outputs": [],
   "source": []
  }
 ],
 "metadata": {
  "kernelspec": {
   "display_name": "Python 3 (ipykernel)",
   "language": "python",
   "name": "python3"
  },
  "language_info": {
   "codemirror_mode": {
    "name": "ipython",
    "version": 3
   },
   "file_extension": ".py",
   "mimetype": "text/x-python",
   "name": "python",
   "nbconvert_exporter": "python",
   "pygments_lexer": "ipython3",
   "version": "3.12.7"
  }
 },
 "nbformat": 4,
 "nbformat_minor": 5
}
